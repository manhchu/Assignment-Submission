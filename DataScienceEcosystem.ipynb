{
 "cells": [
  {
   "cell_type": "markdown",
   "id": "540908ba-c0d4-4230-8484-e880f9e33182",
   "metadata": {},
   "source": [
    "# Data Science Tools and Ecosystem"
   ]
  },
  {
   "cell_type": "markdown",
   "id": "01def98b-682d-4f41-b911-b6470cf06315",
   "metadata": {},
   "source": [
    "In this notebook, Data Science Tools and Ecosystem are summarized"
   ]
  },
  {
   "cell_type": "markdown",
   "id": "b3898b7a-5d3b-4653-9b39-b9ee78b7d887",
   "metadata": {},
   "source": [
    "**Objectives:**\n",
    "- List popular languages for Data Science\n",
    "- List commonly libraries for Data Science\n",
    "- Introduce IBM Watson Studio\n"
   ]
  },
  {
   "cell_type": "markdown",
   "id": "3a29d5b7-6456-4db0-ba72-7880c33123d6",
   "metadata": {},
   "source": [
    "Some of the popular languages that Data Scientists use are \n",
    "\n",
    "1. Python\n",
    "2. R\n",
    "3. SQL"
   ]
  },
  {
   "cell_type": "markdown",
   "id": "f1a83670-0691-46e6-a195-5f6af8640e47",
   "metadata": {},
   "source": [
    "Some of the commonly used libraries used by Data Scientists include:\n",
    "\n",
    "1. Python libraries\n",
    "2. Pandas\n",
    "3. Numpy\n",
    "4. Matplotlib\n",
    "5. Seaborn"
   ]
  },
  {
   "cell_type": "markdown",
   "id": "a583c2bd-b89f-4eb6-8933-a13a88aed647",
   "metadata": {},
   "source": [
    "|Data Science Tools|\n",
    "|------------------|\n",
    "|My SQL            |\n",
    "|------------------|\n",
    "|PostgreSQL        |\n",
    "|------------------|\n",
    "|Apache AirFlow    |\n"
   ]
  },
  {
   "cell_type": "markdown",
   "id": "07d6ef40-b81d-42bf-8d8c-cd158bfea3da",
   "metadata": {},
   "source": [
    "### Below are a few examples of evaluating arithmetic expressions in Python"
   ]
  },
  {
   "cell_type": "code",
   "execution_count": 1,
   "id": "d77d4582-86cf-4ee7-bc0d-6fe39ab19694",
   "metadata": {},
   "outputs": [
    {
     "data": {
      "text/plain": [
       "17"
      ]
     },
     "execution_count": 1,
     "metadata": {},
     "output_type": "execute_result"
    }
   ],
   "source": [
    "# This a simple arithmetic expression to mutiply then add integers:\n",
    "(3*4)+5"
   ]
  },
  {
   "cell_type": "code",
   "execution_count": 16,
   "id": "f73ba474-6a6f-4f0a-a323-584c83c28bf0",
   "metadata": {},
   "outputs": [
    {
     "name": "stdout",
     "output_type": "stream",
     "text": [
      "200.0 minutes are equivalent to 3.0 hours and 20.0 minute\n"
     ]
    }
   ],
   "source": [
    "# This will convert 200 minutes to hours by diving by 60:\n",
    "time=float(200)\n",
    "hours=time//60\n",
    "leftover_time=time-hours*60\n",
    "print(time,\"minutes are equivalent to\", hours, \"hours\",\"and\",leftover_time,\"minute\")"
   ]
  },
  {
   "cell_type": "markdown",
   "id": "cb708581-a64b-4486-926d-8149c9ce09c7",
   "metadata": {},
   "source": [
    "## Author\n",
    "Xuan Manh Chu"
   ]
  },
  {
   "cell_type": "code",
   "execution_count": null,
   "id": "b51f6b72-28b2-4db1-87d5-82e951dde1b5",
   "metadata": {},
   "outputs": [],
   "source": []
  }
 ],
 "metadata": {
  "kernelspec": {
   "display_name": "Python 3 (ipykernel)",
   "language": "python",
   "name": "python3"
  },
  "language_info": {
   "codemirror_mode": {
    "name": "ipython",
    "version": 3
   },
   "file_extension": ".py",
   "mimetype": "text/x-python",
   "name": "python",
   "nbconvert_exporter": "python",
   "pygments_lexer": "ipython3",
   "version": "3.9.7"
  }
 },
 "nbformat": 4,
 "nbformat_minor": 5
}
